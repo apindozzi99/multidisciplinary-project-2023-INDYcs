{
 "nbformat": 4,
 "nbformat_minor": 0,
 "metadata": {
  "colab": {
   "provenance": []
  },
  "kernelspec": {
   "name": "python3",
   "display_name": "Python 3"
  }
 },
 "cells": [
  {
   "cell_type": "markdown",
   "metadata": {
    "id": "3Ok07RThGKva"
   },
   "source": [
    "# MongoDB with PyMongo\n",
    "This notebook is meant for loading the data obtained from the Siamese network to MongoDB ATLAS with Python.\n",
    "\n",
    "Some resources:\n",
    "\n",
    "https://docs.atlas.mongodb.com/getting-started/\n",
    "\n",
    "https://api.mongodb.com/python/current/"
   ]
  },
  {
   "cell_type": "code",
   "metadata": {
    "id": "-pPYmXvGc95C"
   },
   "source": [
    "!pip install pymongo"
   ],
   "execution_count": null,
   "outputs": []
  },
  {
   "cell_type": "code",
   "source": [
    "from google.colab import drive\n",
    "drive.mount('/content/drive')\n",
    "\n",
    "\n",
    "# change with the PATH where you previously stored the .json files related to each movie\n",
    "%cd drive/MyDrive/MDP/Dataset"
   ],
   "metadata": {
    "colab": {
     "base_uri": "https://localhost:8080/"
    },
    "id": "F2qvNdMEXcMz",
    "outputId": "16f9cfcb-fb56-43d7-bfd9-19c1e616dfd8"
   },
   "execution_count": null,
   "outputs": [
    {
     "output_type": "stream",
     "name": "stdout",
     "text": [
      "Drive already mounted at /content/drive; to attempt to forcibly remount, call drive.mount(\"/content/drive\", force_remount=True).\n",
      "/content/drive/MyDrive/MDP/Dataset\n"
     ]
    }
   ]
  },
  {
   "cell_type": "markdown",
   "source": [
    "You need to change your username, password and cluster to create the connection URI"
   ],
   "metadata": {
    "id": "aeRFZDAbvzNU"
   }
  },
  {
   "cell_type": "code",
   "metadata": {
    "id": "acMctEFUcwr8"
   },
   "source": [
    "import pymongo\n",
    "from urllib.parse import quote_plus\n",
    "username = quote_plus('')\n",
    "password = quote_plus('')\n",
    "cluster = 'cluster0.hns6k.mongodb.net'\n",
    "uri = 'mongodb+srv://' + username + ':' + password + '@' + cluster\n",
    "client = pymongo.MongoClient(uri)"
   ],
   "execution_count": null,
   "outputs": []
  },
  {
   "cell_type": "code",
   "source": [
    "db = client.movies"
   ],
   "metadata": {
    "id": "wlIrzMDOu9JM"
   },
   "execution_count": null,
   "outputs": []
  },
  {
   "cell_type": "code",
   "metadata": {
    "id": "dDUrxmWOdmkz"
   },
   "source": [
    "db.movies_info"
   ],
   "execution_count": null,
   "outputs": []
  },
  {
   "cell_type": "markdown",
   "source": [
    "Creates a document representing a movie in the following format  \n",
    "* title\n",
    "* frames: Array whose elements are\n",
    "      {\n",
    "      \"_id\": ObjectId(12-bytes string with frame_id)\n",
    "      \"Coordinates\": [ [x1,y1,x2,y2] ],    \n",
    "      }\n",
    "\n"
   ],
   "metadata": {
    "id": "iyxTLcbIyw_t"
   }
  },
  {
   "cell_type": "code",
   "metadata": {
    "id": "yvSjL1HQeS_-"
   },
   "source": [
    "import json\n",
    "from bson.objectid import ObjectId\n",
    "import pprint\n",
    "\n",
    "file_descriptor = open('Documents/iron_man_vs_loki.json',\"r\")\n",
    "data = json.load(file_descriptor)\n",
    "document = {}\n",
    "\n",
    "frame_ids = [int(key) for key in data.keys()]\n",
    "\n",
    "\n",
    "document['title'] = \"Iron Man vs Loki\"\n",
    "document['frames'] = [{\"_id\": ObjectId((id).to_bytes(12,'big')), \"Coordinates\": [data[str(id)][box_id]['Coordinates']]} \n",
    "                      for id in frame_ids for box_id in data[str(id)].keys()]\n",
    "\n",
    "db.movies_info.insert_one(document)"
   ],
   "execution_count": null,
   "outputs": []
  },
  {
   "cell_type": "markdown",
   "source": [
    "Query to ask for the information related to the **frame_id**"
   ],
   "metadata": {
    "id": "xNyoUiSUzy_n"
   }
  },
  {
   "cell_type": "code",
   "source": [
    "frame_id = 0\n",
    "bytes_id = frame_id.to_bytes(12,'big')\n",
    "vals = db.movies_info.aggregate([{\"$match\": {\"title\": \"Iron Man vs Loki\"}},\n",
    "                                 {\"$project\":{\"frame\": { \"$arrayElemAt\": [ \"$frames\",0]}}}])\n",
    "returned = list(vals)\n",
    "\n",
    "print(returned[0][\"frame\"][\"Coordinates\"])"
   ],
   "metadata": {
    "id": "EI_gVNqLsgYc"
   },
   "execution_count": null,
   "outputs": []
  }
 ]
}